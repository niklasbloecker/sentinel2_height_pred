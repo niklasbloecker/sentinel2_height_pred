{
  "cells": [
    {
      "cell_type": "code",
      "execution_count": null,
      "metadata": {
        "id": "roVkTXRWKR3_"
      },
      "outputs": [],
      "source": [
        "%%capture\n",
        "!pip install numpy matplotlib scikit-image plotly tensorflow torch pandas xgboost scikit-learn"
      ]
    },
    {
      "cell_type": "code",
      "execution_count": null,
      "metadata": {
        "id": "z_M9bx1kd_Zl"
      },
      "outputs": [],
      "source": [
        "import numpy as np\n",
        "from matplotlib import pyplot as plt\n",
        "from os import listdir\n",
        "import plotly.express as px\n",
        "import skimage\n",
        "from skimage.measure import block_reduce\n",
        "import pandas as pd\n",
        "from xgboost import XGBRegressor\n",
        "from sklearn.datasets import load_iris\n",
        "from sklearn.model_selection import train_test_split\n",
        "from sklearn.metrics import mean_squared_error\n",
        "from sklearn.metrics import mean_absolute_error\n"
      ]
    },
    {
      "cell_type": "markdown",
      "source": [
        "#Model Training Data Prep"
      ],
      "metadata": {
        "id": "5YNHBIzAfRbP"
      }
    },
    {
      "cell_type": "markdown",
      "metadata": {
        "id": "qQm1zvC79OWu"
      },
      "source": [
        "## Load and extract data"
      ]
    },
    {
      "cell_type": "code",
      "execution_count": null,
      "metadata": {
        "colab": {
          "base_uri": "https://localhost:8080/"
        },
        "id": "Js1vB6bPwShU",
        "outputId": "4b7ff50b-caae-4f59-e96b-17b1da787637"
      },
      "outputs": [
        {
          "output_type": "stream",
          "name": "stdout",
          "text": [
            "--2023-07-04 20:46:17--  https://uni-muenster.sciebo.de/s/Ye3GpOyPj0rCeTh/download?path=%2F&files=images_train.zip\n",
            "Resolving uni-muenster.sciebo.de (uni-muenster.sciebo.de)... 128.176.1.2\n",
            "Connecting to uni-muenster.sciebo.de (uni-muenster.sciebo.de)|128.176.1.2|:443... connected.\n",
            "HTTP request sent, awaiting response... 200 OK\n",
            "Length: 213887376 (204M) [application/zip]\n",
            "Saving to: ‘images_train.zip’\n",
            "\n",
            "images_train.zip    100%[===================>] 203.98M  27.9MB/s    in 8.0s    \n",
            "\n",
            "2023-07-04 20:46:26 (25.4 MB/s) - ‘images_train.zip’ saved [213887376/213887376]\n",
            "\n",
            "--2023-07-04 20:46:33--  https://uni-muenster.sciebo.de/s/Ye3GpOyPj0rCeTh/download?path=%2F&files=masks_train.zip\n",
            "Resolving uni-muenster.sciebo.de (uni-muenster.sciebo.de)... 128.176.1.2\n",
            "Connecting to uni-muenster.sciebo.de (uni-muenster.sciebo.de)|128.176.1.2|:443... connected.\n",
            "HTTP request sent, awaiting response... 200 OK\n",
            "Length: 365001 (356K) [application/zip]\n",
            "Saving to: ‘masks_train.zip’\n",
            "\n",
            "masks_train.zip     100%[===================>] 356.45K   690KB/s    in 0.5s    \n",
            "\n",
            "2023-07-04 20:46:34 (690 KB/s) - ‘masks_train.zip’ saved [365001/365001]\n",
            "\n"
          ]
        }
      ],
      "source": [
        "#Get Train Images\n",
        "!wget -O images_train.zip \"https://uni-muenster.sciebo.de/s/Ye3GpOyPj0rCeTh/download?path=%2F&files=images_train.zip\"\n",
        "!unzip -q images_train.zip\n",
        "!wget -O masks_train.zip \"https://uni-muenster.sciebo.de/s/Ye3GpOyPj0rCeTh/download?path=%2F&files=masks_train.zip\"\n",
        "!unzip -q masks_train.zip"
      ]
    },
    {
      "cell_type": "code",
      "execution_count": null,
      "metadata": {
        "id": "e6-3blsohq_n"
      },
      "outputs": [],
      "source": [
        "#Load Images & Masks in NP Arrays, transpose axis correctly, load public test image\n",
        "from pathlib import Path\n",
        "NUM_IMAGES = 20\n",
        "images = np.array([np.load(Path(f'images/image_{n:03}.npy')) for n in range(NUM_IMAGES)]).transpose((0,2,3,1))\n",
        "masks = np.array([np.load(Path(f'masks/mask_{n:03}.npy')) for n in range(NUM_IMAGES)]).transpose((0,2,3,1))\n",
        "#public_test = np.array([np.load(Path(f'public_test_image.npy'))]).transpose((3,2,1,0))"
      ]
    },
    {
      "cell_type": "code",
      "execution_count": null,
      "metadata": {
        "colab": {
          "base_uri": "https://localhost:8080/"
        },
        "id": "YQ8j5HOmjhni",
        "outputId": "d2a5de16-60df-4ea5-8fe0-70cd21ce739a"
      },
      "outputs": [
        {
          "output_type": "stream",
          "name": "stdout",
          "text": [
            "(32239, 10) (32239, 1) 20 1024 1024 10 (20, 1024, 1024)\n"
          ]
        }
      ],
      "source": [
        "# Get shape of images\n",
        "N, X, Y, C = images.shape"
      ]
    },
    {
      "cell_type": "markdown",
      "source": [
        "## Cropped Images Preprocessing"
      ],
      "metadata": {
        "id": "uRxpzxy6ZnD2"
      }
    },
    {
      "cell_type": "code",
      "source": [
        "CROPPING_OFFSET = 2 # Defines the pixel offset in every direction"
      ],
      "metadata": {
        "id": "6AdjVelRZh8H"
      },
      "execution_count": null,
      "outputs": []
    },
    {
      "cell_type": "code",
      "source": [
        "# Padding images to allow cropping of edge values\n",
        "padding_tuple = ((0,0), (CROPPING_OFFSET,CROPPING_OFFSET), (CROPPING_OFFSET,CROPPING_OFFSET), (0,0))\n",
        "images_pad = np.pad(images, padding_tuple) # Padding space is filled with zeor values"
      ],
      "metadata": {
        "id": "W9d5tKMIZlYj"
      },
      "execution_count": null,
      "outputs": []
    },
    {
      "cell_type": "code",
      "source": [
        "keypoints = masks.nonzero() # Get coordinates of measured height values\n",
        "keypoints_val = masks[keypoints] # Get measured height values"
      ],
      "metadata": {
        "id": "GZYrQ4USbuZ1"
      },
      "execution_count": null,
      "outputs": []
    },
    {
      "cell_type": "code",
      "source": [
        "images_crop = []\n",
        "\n",
        "for i in range(len(keypoints[0])):\n",
        "  p = keypoints[0][i]                   # Picture indice\n",
        "  x = keypoints[1][i] + CROPPING_OFFSET # X indice in padded image\n",
        "  y = keypoints[2][i] + CROPPING_OFFSET # Y indice in padded image\n",
        "  v = keypoints_val[i]                  # Height value\n",
        "  image_crop = images_pad[p, x-CROPPING_OFFSET : x+CROPPING_OFFSET+1, y-CROPPING_OFFSET: y+CROPPING_OFFSET+1,:]\n",
        "  #print(f\"X:{x} Y:{y} | Crop X start:{x-CROPPING_OFFSET} end:{x+CROPPING_OFFSET+1} Y start:{y-CROPPING_OFFSET} end:{y+CROPPING_OFFSET+1}\")\n",
        "\n",
        "  images_crop.append([p,x,y,v,image_crop])\n",
        "\n",
        "images_crop = pd.DataFrame(images_crop, columns=[\"p\",\"x\",\"y\",\"v\",\"image\"])"
      ],
      "metadata": {
        "id": "2K4--pWtb6WC"
      },
      "execution_count": null,
      "outputs": []
    },
    {
      "cell_type": "code",
      "source": [
        "# Prepare train, test split with segmentation of indices\n",
        "n_data = len(images_crop)\n",
        "indices = np.arange(n_data)\n",
        "np.random.shuffle(indices) # Shuffle order of cropped image indices\n",
        "train_indices, test_indices= indices[:int(n_data*0.8)], indices[int(n_data*0.8):]"
      ],
      "metadata": {
        "id": "sYHwMsjrcSNF"
      },
      "execution_count": null,
      "outputs": []
    },
    {
      "cell_type": "code",
      "source": [
        "crop_train_x, crop_train_y = np.array(list(images_crop.image[train_indices])), np.array(images_crop.v[train_indices])\n",
        "crop_test_x, crop_test_y = np.array(list(images_crop.image[test_indices])), np.array(images_crop.v[test_indices])"
      ],
      "metadata": {
        "id": "Okmj7coSetgZ"
      },
      "execution_count": null,
      "outputs": []
    },
    {
      "cell_type": "code",
      "source": [
        "# Reshape for Training of XGB Model and for Testing - Flatten Train/Test x\n",
        "P, X, Y, C = crop_train_x.shape\n",
        "crop_train_x = crop_train_x.reshape(P, -1)\n",
        "P, X, Y, C = crop_test_x.shape\n",
        "crop_test_x = crop_test_x.reshape(P, -1)\n"
      ],
      "metadata": {
        "id": "tgmJzLL3e_jc"
      },
      "execution_count": null,
      "outputs": []
    },
    {
      "cell_type": "markdown",
      "source": [
        "## XGB Model Training"
      ],
      "metadata": {
        "id": "uB5lMkTqZqbv"
      }
    },
    {
      "cell_type": "code",
      "source": [
        "params = {\n",
        "    'booster':  'gbtree', #  The default, outperforms gblinear\n",
        "    'objective': 'reg:absoluteerror', #previously reg:squarederror\n",
        "    'learning_rate': 0.3,\n",
        "    'n_estimators': 500,\n",
        "    'eval_metric': 'mae' # previously rmse\n",
        "\n",
        "}"
      ],
      "metadata": {
        "id": "khvmE5lgptMj"
      },
      "execution_count": null,
      "outputs": []
    },
    {
      "cell_type": "code",
      "source": [
        "xgb_model_crop = XGBRegressor(**params, max_depth = 10)"
      ],
      "metadata": {
        "id": "kc19kovoZcfa"
      },
      "execution_count": null,
      "outputs": []
    },
    {
      "cell_type": "code",
      "source": [
        "xgb_model_crop.fit(crop_train_x, crop_train_y)"
      ],
      "metadata": {
        "colab": {
          "base_uri": "https://localhost:8080/",
          "height": 248
        },
        "id": "Gxrf8YHqgLA1",
        "outputId": "39554ee7-cae7-48e6-9975-45666794954f"
      },
      "execution_count": null,
      "outputs": [
        {
          "output_type": "execute_result",
          "data": {
            "text/plain": [
              "XGBRegressor(base_score=None, booster='gbtree', callbacks=None,\n",
              "             colsample_bylevel=None, colsample_bynode=None,\n",
              "             colsample_bytree=None, early_stopping_rounds=None,\n",
              "             enable_categorical=False, eval_metric='mae', feature_types=None,\n",
              "             gamma=None, gpu_id=None, grow_policy=None, importance_type=None,\n",
              "             interaction_constraints=None, learning_rate=0.3, max_bin=None,\n",
              "             max_cat_threshold=None, max_cat_to_onehot=None,\n",
              "             max_delta_step=None, max_depth=10, max_leaves=None,\n",
              "             min_child_weight=None, missing=nan, monotone_constraints=None,\n",
              "             n_estimators=500, n_jobs=None, num_parallel_tree=None,\n",
              "             objective='reg:absoluteerror', predictor=None, ...)"
            ],
            "text/html": [
              "<style>#sk-container-id-1 {color: black;background-color: white;}#sk-container-id-1 pre{padding: 0;}#sk-container-id-1 div.sk-toggleable {background-color: white;}#sk-container-id-1 label.sk-toggleable__label {cursor: pointer;display: block;width: 100%;margin-bottom: 0;padding: 0.3em;box-sizing: border-box;text-align: center;}#sk-container-id-1 label.sk-toggleable__label-arrow:before {content: \"▸\";float: left;margin-right: 0.25em;color: #696969;}#sk-container-id-1 label.sk-toggleable__label-arrow:hover:before {color: black;}#sk-container-id-1 div.sk-estimator:hover label.sk-toggleable__label-arrow:before {color: black;}#sk-container-id-1 div.sk-toggleable__content {max-height: 0;max-width: 0;overflow: hidden;text-align: left;background-color: #f0f8ff;}#sk-container-id-1 div.sk-toggleable__content pre {margin: 0.2em;color: black;border-radius: 0.25em;background-color: #f0f8ff;}#sk-container-id-1 input.sk-toggleable__control:checked~div.sk-toggleable__content {max-height: 200px;max-width: 100%;overflow: auto;}#sk-container-id-1 input.sk-toggleable__control:checked~label.sk-toggleable__label-arrow:before {content: \"▾\";}#sk-container-id-1 div.sk-estimator input.sk-toggleable__control:checked~label.sk-toggleable__label {background-color: #d4ebff;}#sk-container-id-1 div.sk-label input.sk-toggleable__control:checked~label.sk-toggleable__label {background-color: #d4ebff;}#sk-container-id-1 input.sk-hidden--visually {border: 0;clip: rect(1px 1px 1px 1px);clip: rect(1px, 1px, 1px, 1px);height: 1px;margin: -1px;overflow: hidden;padding: 0;position: absolute;width: 1px;}#sk-container-id-1 div.sk-estimator {font-family: monospace;background-color: #f0f8ff;border: 1px dotted black;border-radius: 0.25em;box-sizing: border-box;margin-bottom: 0.5em;}#sk-container-id-1 div.sk-estimator:hover {background-color: #d4ebff;}#sk-container-id-1 div.sk-parallel-item::after {content: \"\";width: 100%;border-bottom: 1px solid gray;flex-grow: 1;}#sk-container-id-1 div.sk-label:hover label.sk-toggleable__label {background-color: #d4ebff;}#sk-container-id-1 div.sk-serial::before {content: \"\";position: absolute;border-left: 1px solid gray;box-sizing: border-box;top: 0;bottom: 0;left: 50%;z-index: 0;}#sk-container-id-1 div.sk-serial {display: flex;flex-direction: column;align-items: center;background-color: white;padding-right: 0.2em;padding-left: 0.2em;position: relative;}#sk-container-id-1 div.sk-item {position: relative;z-index: 1;}#sk-container-id-1 div.sk-parallel {display: flex;align-items: stretch;justify-content: center;background-color: white;position: relative;}#sk-container-id-1 div.sk-item::before, #sk-container-id-1 div.sk-parallel-item::before {content: \"\";position: absolute;border-left: 1px solid gray;box-sizing: border-box;top: 0;bottom: 0;left: 50%;z-index: -1;}#sk-container-id-1 div.sk-parallel-item {display: flex;flex-direction: column;z-index: 1;position: relative;background-color: white;}#sk-container-id-1 div.sk-parallel-item:first-child::after {align-self: flex-end;width: 50%;}#sk-container-id-1 div.sk-parallel-item:last-child::after {align-self: flex-start;width: 50%;}#sk-container-id-1 div.sk-parallel-item:only-child::after {width: 0;}#sk-container-id-1 div.sk-dashed-wrapped {border: 1px dashed gray;margin: 0 0.4em 0.5em 0.4em;box-sizing: border-box;padding-bottom: 0.4em;background-color: white;}#sk-container-id-1 div.sk-label label {font-family: monospace;font-weight: bold;display: inline-block;line-height: 1.2em;}#sk-container-id-1 div.sk-label-container {text-align: center;}#sk-container-id-1 div.sk-container {/* jupyter's `normalize.less` sets `[hidden] { display: none; }` but bootstrap.min.css set `[hidden] { display: none !important; }` so we also need the `!important` here to be able to override the default hidden behavior on the sphinx rendered scikit-learn.org. See: https://github.com/scikit-learn/scikit-learn/issues/21755 */display: inline-block !important;position: relative;}#sk-container-id-1 div.sk-text-repr-fallback {display: none;}</style><div id=\"sk-container-id-1\" class=\"sk-top-container\"><div class=\"sk-text-repr-fallback\"><pre>XGBRegressor(base_score=None, booster=&#x27;gbtree&#x27;, callbacks=None,\n",
              "             colsample_bylevel=None, colsample_bynode=None,\n",
              "             colsample_bytree=None, early_stopping_rounds=None,\n",
              "             enable_categorical=False, eval_metric=&#x27;mae&#x27;, feature_types=None,\n",
              "             gamma=None, gpu_id=None, grow_policy=None, importance_type=None,\n",
              "             interaction_constraints=None, learning_rate=0.3, max_bin=None,\n",
              "             max_cat_threshold=None, max_cat_to_onehot=None,\n",
              "             max_delta_step=None, max_depth=10, max_leaves=None,\n",
              "             min_child_weight=None, missing=nan, monotone_constraints=None,\n",
              "             n_estimators=500, n_jobs=None, num_parallel_tree=None,\n",
              "             objective=&#x27;reg:absoluteerror&#x27;, predictor=None, ...)</pre><b>In a Jupyter environment, please rerun this cell to show the HTML representation or trust the notebook. <br />On GitHub, the HTML representation is unable to render, please try loading this page with nbviewer.org.</b></div><div class=\"sk-container\" hidden><div class=\"sk-item\"><div class=\"sk-estimator sk-toggleable\"><input class=\"sk-toggleable__control sk-hidden--visually\" id=\"sk-estimator-id-1\" type=\"checkbox\" checked><label for=\"sk-estimator-id-1\" class=\"sk-toggleable__label sk-toggleable__label-arrow\">XGBRegressor</label><div class=\"sk-toggleable__content\"><pre>XGBRegressor(base_score=None, booster=&#x27;gbtree&#x27;, callbacks=None,\n",
              "             colsample_bylevel=None, colsample_bynode=None,\n",
              "             colsample_bytree=None, early_stopping_rounds=None,\n",
              "             enable_categorical=False, eval_metric=&#x27;mae&#x27;, feature_types=None,\n",
              "             gamma=None, gpu_id=None, grow_policy=None, importance_type=None,\n",
              "             interaction_constraints=None, learning_rate=0.3, max_bin=None,\n",
              "             max_cat_threshold=None, max_cat_to_onehot=None,\n",
              "             max_delta_step=None, max_depth=10, max_leaves=None,\n",
              "             min_child_weight=None, missing=nan, monotone_constraints=None,\n",
              "             n_estimators=500, n_jobs=None, num_parallel_tree=None,\n",
              "             objective=&#x27;reg:absoluteerror&#x27;, predictor=None, ...)</pre></div></div></div></div></div>"
            ]
          },
          "metadata": {},
          "execution_count": 18
        }
      ]
    },
    {
      "cell_type": "code",
      "source": [
        "crop_pred_y = xgb_model_crop.predict(crop_test_x)\n",
        "\n",
        "print(mean_absolute_error(crop_test_y, crop_pred_y), mean_squared_error(crop_test_y, crop_pred_y))"
      ],
      "metadata": {
        "colab": {
          "base_uri": "https://localhost:8080/"
        },
        "id": "FZfiTfDFgXcS",
        "outputId": "2bd395ca-7a49-4426-b2f6-643a72448826"
      },
      "execution_count": null,
      "outputs": [
        {
          "output_type": "stream",
          "name": "stdout",
          "text": [
            "4.170457353415638 46.51940552120927\n"
          ]
        }
      ]
    },
    {
      "cell_type": "code",
      "source": [
        "xgb_model_crop.save_model(\"model_xgb_crop_v1.json\")"
      ],
      "metadata": {
        "id": "a2GedEGzTarV"
      },
      "execution_count": null,
      "outputs": []
    }
  ],
  "metadata": {
    "colab": {
      "provenance": [],
      "collapsed_sections": [
        "dU2GxAhVdgY6",
        "DeUiSwZeFsdF",
        "uB5lMkTqZqbv",
        "I2KmjNBjqMEp",
        "CHxXwP-JqUcT",
        "Ft0TBLvvqZm9",
        "2RGFrvK-qp9v"
      ]
    },
    "kernelspec": {
      "display_name": "Python 3",
      "name": "python3"
    },
    "language_info": {
      "codemirror_mode": {
        "name": "ipython",
        "version": 3
      },
      "file_extension": ".py",
      "mimetype": "text/x-python",
      "name": "python",
      "nbconvert_exporter": "python",
      "pygments_lexer": "ipython3",
      "version": "3.11.3"
    }
  },
  "nbformat": 4,
  "nbformat_minor": 0
}